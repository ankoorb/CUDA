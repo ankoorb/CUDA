{
 "cells": [
  {
   "cell_type": "code",
   "execution_count": 1,
   "metadata": {},
   "outputs": [],
   "source": [
    "import math  # For floor division\n",
    "import numpy as np"
   ]
  },
  {
   "cell_type": "code",
   "execution_count": 2,
   "metadata": {
    "scrolled": false
   },
   "outputs": [
    {
     "name": "stdout",
     "output_type": "stream",
     "text": [
      "[175 196  25 246  67 211 151 103  92 185 142  23  72  89 110  42]\n",
      "[0.26843898 0.4998825  0.67923    0.80373904 0.38094113 0.06593635\n",
      " 0.2881456  0.90959353 0.21338535]\n",
      "[613.10072313 622.35292156 635.60443797 585.97479502 510.53976904\n",
      " 531.20494245 653.48125306 530.91081302 421.21238177 504.97810698\n",
      " 541.04790183 365.25312729 392.7369462  437.82397389 387.13487301\n",
      " 251.27919968]\n"
     ]
    }
   ],
   "source": [
    "# Channel Convolution\n",
    "\n",
    "numRows = 4\n",
    "numCols = 4\n",
    "filterWidth = 3\n",
    "\n",
    "np.random.seed(7)\n",
    "\n",
    "# 1 channel of image\n",
    "channelArray = np.random.randint(0, high=255, size=(numRows, numCols))  # Values between [0, 1)\n",
    "channel = np.reshape(channelArray, -1)  # 1D array\n",
    "channelBlurred = np.zeros(channel.shape)  # 1D array\n",
    "\n",
    "# Filter\n",
    "filterArray = np.random.rand(filterWidth, filterWidth)\n",
    "_filter = np.reshape(filterArray, -1)  # 1D array\n",
    "\n",
    "# Check for even width filter\n",
    "assert _filter.shape[0] % 2 == 1\n",
    "\n",
    "stringR = \"R: {}, fR: {}, iR: {}\"\n",
    "stringC = \"C: {}, fC: {}, iC: {}\"\n",
    "\n",
    "print(channel)\n",
    "print(_filter)\n",
    "\n",
    "# For every pixel in image\n",
    "for row in range(numRows):\n",
    "    for col in range(numCols):\n",
    "        result = 0\n",
    "        WIDTH = math.floor(filterWidth/2)\n",
    "        \n",
    "        # For every value in the filter around the pixel (r, c)?\n",
    "        for f_row in range(-WIDTH, WIDTH + 1):\n",
    "            for f_col in range(-WIDTH, WIDTH + 1):\n",
    "                # Find the global image position for this filter position and clamp to image boundary\n",
    "                img_row = min(max(row + f_row, 0), numRows-1)\n",
    "                img_col = min(max(col + f_col, 0), numCols-1)\n",
    "                #print(stringR.format(row, f_row, img_row))\n",
    "                #print(stringC.format(col, f_col, img_col))\n",
    "                \n",
    "                # Extract image and filter values for multiplication\n",
    "                iValue = channel[img_row * numCols + img_col]\n",
    "                \n",
    "                filter_row = f_row + WIDTH\n",
    "                filter_col = f_col + WIDTH\n",
    "                #print(img_row, img_col, filter_row, filter_col)\n",
    "                \n",
    "                fValue = _filter[filter_row * filterWidth + filter_col]\n",
    "                #print(iValue, fValue)\n",
    "                result += iValue * fValue\n",
    "        channelBlurred[row * numCols + col] = result\n",
    "        \n",
    "print(channelBlurred)"
   ]
  },
  {
   "cell_type": "code",
   "execution_count": null,
   "metadata": {},
   "outputs": [],
   "source": []
  },
  {
   "cell_type": "markdown",
   "metadata": {},
   "source": [
    "# Scratch"
   ]
  },
  {
   "cell_type": "code",
   "execution_count": 3,
   "metadata": {},
   "outputs": [
    {
     "name": "stdout",
     "output_type": "stream",
     "text": [
      "[175 196  25 246  67 211 151 103  92 185 142  23  72  89 110  42]\n",
      "row: 0, col: 0, value: 175\n",
      "row: 0, col: 1, value: 196\n",
      "row: 0, col: 2, value: 25\n",
      "row: 0, col: 3, value: 246\n",
      "row: 1, col: 0, value: 67\n",
      "row: 1, col: 1, value: 211\n",
      "row: 1, col: 2, value: 151\n",
      "row: 1, col: 3, value: 103\n",
      "row: 2, col: 0, value: 92\n",
      "row: 2, col: 1, value: 185\n",
      "row: 2, col: 2, value: 142\n",
      "row: 2, col: 3, value: 23\n",
      "row: 3, col: 0, value: 72\n",
      "row: 3, col: 1, value: 89\n",
      "row: 3, col: 2, value: 110\n",
      "row: 3, col: 3, value: 42\n"
     ]
    }
   ],
   "source": [
    "print(channel)\n",
    "for row in range(numRows):\n",
    "    for col in range(numCols):\n",
    "        val = channel[row * numCols + col]\n",
    "        print('row: {}, col: {}, value: {}'.format(row, col, val))"
   ]
  },
  {
   "cell_type": "code",
   "execution_count": 4,
   "metadata": {},
   "outputs": [
    {
     "name": "stdout",
     "output_type": "stream",
     "text": [
      "C[0]: 175 and F[0]: 0.26843898010187117\n",
      "C[0]: 175 and F[1]: 0.49988250082555996\n",
      "C[1]: 196 and F[2]: 0.6792299961209405\n",
      "C[0]: 175 and F[3]: 0.8037390361043755\n",
      "C[0]: 175 and F[4]: 0.3809411331485384\n",
      "C[1]: 196 and F[5]: 0.06593634690590511\n",
      "C[4]: 67 and F[6]: 0.28814559930799355\n",
      "C[4]: 67 and F[7]: 0.9095935277196137\n",
      "C[5]: 211 and F[8]: 0.2133853535799155\n"
     ]
    }
   ],
   "source": [
    "row = 0\n",
    "col = 0\n",
    "WIDTH = math.floor(filterWidth/2)\n",
    "\n",
    "# For every value in the filter around the pixel (r, c)\n",
    "for f_row in range(-WIDTH, WIDTH + 1):\n",
    "    for f_col in range(-WIDTH, WIDTH + 1):\n",
    "        #print('f_row: {}, f_col: {}'.format(f_row, f_col))\n",
    "        \n",
    "        img_row = min(max(row + f_row, 0), numRows-1)\n",
    "        img_col = min(max(col + f_col, 0), numCols-1)\n",
    "        #print('i_row: {}, i_col: {}'.format(img_row, img_col))\n",
    "        #print('\\n')\n",
    "        idx = img_row * numCols + img_col\n",
    "        ival = channel[idx]\n",
    "        fdx = (f_row + WIDTH) * filterWidth + (f_col + WIDTH)\n",
    "        fval = _filter[fdx]\n",
    "        print('C[{}]: {} and F[{}]: {}'.format(idx, ival, fdx, fval))"
   ]
  },
  {
   "cell_type": "code",
   "execution_count": null,
   "metadata": {},
   "outputs": [],
   "source": []
  }
 ],
 "metadata": {
  "kernelspec": {
   "display_name": "Python 3",
   "language": "python",
   "name": "python3"
  },
  "language_info": {
   "codemirror_mode": {
    "name": "ipython",
    "version": 3
   },
   "file_extension": ".py",
   "mimetype": "text/x-python",
   "name": "python",
   "nbconvert_exporter": "python",
   "pygments_lexer": "ipython3",
   "version": "3.6.5"
  }
 },
 "nbformat": 4,
 "nbformat_minor": 2
}
