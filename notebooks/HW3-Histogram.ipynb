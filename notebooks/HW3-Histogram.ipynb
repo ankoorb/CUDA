{
 "cells": [
  {
   "cell_type": "code",
   "execution_count": 1,
   "metadata": {},
   "outputs": [],
   "source": [
    "import numpy as np"
   ]
  },
  {
   "cell_type": "code",
   "execution_count": 2,
   "metadata": {},
   "outputs": [
    {
     "name": "stdout",
     "output_type": "stream",
     "text": [
      "[5, 8, 5, 0, 0, 1, 7, 6, 2, 4, 5, 2, 4, 2, 4, 7, 7, 1, 7, 0, 6, 7, 6, 1, 0, 1, 8, 8, 3, 8, 7, 3, 6, 5, 1, 3, 4, 8, 1, 4, 0, 3, 2, 0, 4, 2, 7, 7, 8, 6, 3, 7, 7, 4, 5, 3, 6, 8, 0, 2, 7, 7, 7, 3, 0, 8, 7, 7, 1, 1, 3, 0, 8, 6, 4, 5, 6, 2, 5, 7, 8, 4, 4, 7, 7, 4, 0, 2, 0, 7, 1, 7, 8, 4, 0, 1, 8, 2, 3, 1]\n"
     ]
    }
   ],
   "source": [
    "# Input array\n",
    "np.random.seed(1)\n",
    "array = np.random.randint(0, high=9, size=(10, 10))\n",
    "\n",
    "# Flatten input array\n",
    "h_logLuminance = array.flatten()\n",
    "print(h_logLuminance.tolist())"
   ]
  },
  {
   "cell_type": "code",
   "execution_count": 3,
   "metadata": {},
   "outputs": [
    {
     "name": "stdout",
     "output_type": "stream",
     "text": [
      "logLumMin:  5  , logLumMax:  5\n"
     ]
    }
   ],
   "source": [
    "# Initial min and max values as first element of flattened array\n",
    "logLumMin = h_logLuminance[0]\n",
    "logLumMax = h_logLuminance[0]\n",
    "print('logLumMin: ', logLumMin, ' , logLumMax: ', logLumMax)"
   ]
  },
  {
   "cell_type": "code",
   "execution_count": 4,
   "metadata": {},
   "outputs": [
    {
     "name": "stdout",
     "output_type": "stream",
     "text": [
      "logLumMin:  0  , logLumMax:  8\n"
     ]
    }
   ],
   "source": [
    "# Find min and max values of the entire array\n",
    "for i in range(len(h_logLuminance)):\n",
    "    logLumMin = min(h_logLuminance[i], logLumMin)\n",
    "    logLumMax = max(h_logLuminance[i], logLumMax)\n",
    "    \n",
    "print('logLumMin: ', logLumMin, ' , logLumMax: ', logLumMax)"
   ]
  },
  {
   "cell_type": "code",
   "execution_count": 5,
   "metadata": {},
   "outputs": [
    {
     "name": "stdout",
     "output_type": "stream",
     "text": [
      "logLumRange:  8.0\n"
     ]
    }
   ],
   "source": [
    "# Compute range\n",
    "logLumRange = float(logLumMax - logLumMin)\n",
    "print('logLumRange: ', logLumRange)"
   ]
  },
  {
   "cell_type": "code",
   "execution_count": 6,
   "metadata": {},
   "outputs": [
    {
     "name": "stdout",
     "output_type": "stream",
     "text": [
      "histogram:  [0, 0, 0, 0, 0]\n"
     ]
    }
   ],
   "source": [
    "# Initialize histogram of size n_bins with 0\n",
    "n_bins = 5\n",
    "histogram = [0 for _ in range(n_bins)]\n",
    "print('histogram: ', histogram)"
   ]
  },
  {
   "cell_type": "markdown",
   "metadata": {},
   "source": [
    "**Bin Index Computation**\n",
    "\n",
    "$$i_{bin} = min(n_{bins}-1, \\text{int}\\Big(\\frac{(V_t-V_{min})}{V_{range}}) * n_{bins}\\Big)$$"
   ]
  },
  {
   "cell_type": "code",
   "execution_count": 7,
   "metadata": {},
   "outputs": [
    {
     "name": "stdout",
     "output_type": "stream",
     "text": [
      "histogram:  [23, 18, 12, 15, 32]\n",
      "Sum:  100\n"
     ]
    }
   ],
   "source": [
    "# Populate histogram\n",
    "for i in range(len(h_logLuminance)):\n",
    "    idx = min(n_bins-1, int(((h_logLuminance[i] - logLumMin)/logLumRange) * n_bins))\n",
    "    histogram[idx] += 1\n",
    "    \n",
    "print('histogram: ', histogram)\n",
    "print('Sum: ', sum(histogram))"
   ]
  },
  {
   "cell_type": "code",
   "execution_count": 8,
   "metadata": {},
   "outputs": [
    {
     "name": "stdout",
     "output_type": "stream",
     "text": [
      "0.5\n",
      "2.5\n",
      "2\n",
      "2\n"
     ]
    }
   ],
   "source": [
    "# Test\n",
    "print((4 - 0)/8.0)\n",
    "print(((4 - 0)/8.0)*5)\n",
    "print(int(((4 - 0)/8.0)*5))\n",
    "print(min(3, int(((4 - 0)/8.0)*5)))"
   ]
  },
  {
   "cell_type": "markdown",
   "metadata": {},
   "source": [
    "**CDF Computation (Exclusive Scan)**"
   ]
  },
  {
   "cell_type": "code",
   "execution_count": 9,
   "metadata": {},
   "outputs": [
    {
     "name": "stdout",
     "output_type": "stream",
     "text": [
      "histogram:  [23, 18, 12, 15, 32]\n",
      "    h_cdf:  [0, 23, 41, 53, 68]\n"
     ]
    }
   ],
   "source": [
    "# Initialize h_cdf with 0's\n",
    "h_cdf = [0 for _ in range(n_bins)]\n",
    "\n",
    "for i in range(1, len(h_cdf)):\n",
    "    h_cdf[i] = h_cdf[i-1] + histogram[i-1]\n",
    "\n",
    "print('histogram: ', histogram)\n",
    "print('    h_cdf: ', h_cdf)"
   ]
  },
  {
   "cell_type": "code",
   "execution_count": null,
   "metadata": {},
   "outputs": [],
   "source": []
  }
 ],
 "metadata": {
  "kernelspec": {
   "display_name": "Python 3",
   "language": "python",
   "name": "python3"
  },
  "language_info": {
   "codemirror_mode": {
    "name": "ipython",
    "version": 3
   },
   "file_extension": ".py",
   "mimetype": "text/x-python",
   "name": "python",
   "nbconvert_exporter": "python",
   "pygments_lexer": "ipython3",
   "version": "3.5.2"
  }
 },
 "nbformat": 4,
 "nbformat_minor": 2
}
