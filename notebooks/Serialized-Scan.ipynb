{
 "cells": [
  {
   "cell_type": "code",
   "execution_count": 1,
   "metadata": {},
   "outputs": [
    {
     "name": "stdout",
     "output_type": "stream",
     "text": [
      "    Input:  [1, 3, 5, 7, 9]\n",
      "Inclusive:  [1, 4, 9, 16, 25]\n",
      "Exclusive:  [0, 1, 4, 9, 16]\n"
     ]
    }
   ],
   "source": [
    "A = [1, 3, 5, 7, 9]\n",
    "I = 0  # Identity for + operator\n",
    "\n",
    "out_exclusive = []\n",
    "out_inclusive = []\n",
    "for i in range(len(A)):\n",
    "    out_exclusive.append(I) # Exclusive of last\n",
    "    I = I + A[i]\n",
    "    out_inclusive.append(I) # Inclusive of last\n",
    "\n",
    "print('    Input: ', A)\n",
    "print('Inclusive: ', out_inclusive)\n",
    "print('Exclusive: ', out_exclusive)"
   ]
  },
  {
   "cell_type": "code",
   "execution_count": null,
   "metadata": {},
   "outputs": [],
   "source": []
  }
 ],
 "metadata": {
  "kernelspec": {
   "display_name": "Python 3",
   "language": "python",
   "name": "python3"
  },
  "language_info": {
   "codemirror_mode": {
    "name": "ipython",
    "version": 3
   },
   "file_extension": ".py",
   "mimetype": "text/x-python",
   "name": "python",
   "nbconvert_exporter": "python",
   "pygments_lexer": "ipython3",
   "version": "3.5.2"
  }
 },
 "nbformat": 4,
 "nbformat_minor": 2
}
