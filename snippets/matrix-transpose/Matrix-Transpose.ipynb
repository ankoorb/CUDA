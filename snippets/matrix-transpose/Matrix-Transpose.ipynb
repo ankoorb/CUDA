{
 "cells": [
  {
   "cell_type": "code",
   "execution_count": 1,
   "metadata": {},
   "outputs": [],
   "source": [
    "import numpy as np"
   ]
  },
  {
   "cell_type": "code",
   "execution_count": 2,
   "metadata": {},
   "outputs": [
    {
     "data": {
      "text/plain": [
       "array([[ 0,  1,  2,  3,  4,  5,  6,  7],\n",
       "       [ 0,  1,  2,  3,  4,  5,  6,  7],\n",
       "       [ 2,  3,  4,  5,  6,  7,  8,  9],\n",
       "       [ 0,  3,  6,  9, 12, 15, 18, 21],\n",
       "       [ 4,  5,  6,  7,  8,  9, 10, 11],\n",
       "       [ 0,  5, 10, 15, 20, 25, 30, 35],\n",
       "       [ 6,  7,  8,  9, 10, 11, 12, 13],\n",
       "       [ 0,  7, 14, 21, 28, 35, 42, 49]], dtype=int32)"
      ]
     },
     "execution_count": 2,
     "metadata": {},
     "output_type": "execute_result"
    }
   ],
   "source": [
    "s = 8\n",
    "A = np.zeros((s, s), dtype=np.int32)\n",
    "\n",
    "for i in range(s):\n",
    "    for j in range(s):\n",
    "        if i % 2 == 0:\n",
    "            A[i][j] = i + j\n",
    "        else:\n",
    "            A[i][j] = i * j\n",
    "        \n",
    "A"
   ]
  },
  {
   "cell_type": "code",
   "execution_count": 3,
   "metadata": {},
   "outputs": [
    {
     "data": {
      "text/plain": [
       "array([[ 0,  0,  2,  0,  4,  0,  6,  0],\n",
       "       [ 1,  1,  3,  3,  5,  5,  7,  7],\n",
       "       [ 2,  2,  4,  6,  6, 10,  8, 14],\n",
       "       [ 3,  3,  5,  9,  7, 15,  9, 21],\n",
       "       [ 4,  4,  6, 12,  8, 20, 10, 28],\n",
       "       [ 5,  5,  7, 15,  9, 25, 11, 35],\n",
       "       [ 6,  6,  8, 18, 10, 30, 12, 42],\n",
       "       [ 7,  7,  9, 21, 11, 35, 13, 49]], dtype=int32)"
      ]
     },
     "execution_count": 3,
     "metadata": {},
     "output_type": "execute_result"
    }
   ],
   "source": [
    "np.transpose(A)"
   ]
  },
  {
   "cell_type": "code",
   "execution_count": null,
   "metadata": {},
   "outputs": [],
   "source": []
  }
 ],
 "metadata": {
  "kernelspec": {
   "display_name": "Python 3",
   "language": "python",
   "name": "python3"
  },
  "language_info": {
   "codemirror_mode": {
    "name": "ipython",
    "version": 3
   },
   "file_extension": ".py",
   "mimetype": "text/x-python",
   "name": "python",
   "nbconvert_exporter": "python",
   "pygments_lexer": "ipython3",
   "version": "3.6.5"
  }
 },
 "nbformat": 4,
 "nbformat_minor": 2
}
