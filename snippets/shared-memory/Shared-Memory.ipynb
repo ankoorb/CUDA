{
 "cells": [
  {
   "cell_type": "code",
   "execution_count": 1,
   "metadata": {},
   "outputs": [
    {
     "name": "stdout",
     "output_type": "stream",
     "text": [
      "before:  [ 2  4  6  8 10 12 14 16]\n",
      "\n",
      "i: 0 and s_array[0]: 2\n",
      "i: 1 and s_array[1]: 4\n",
      "i: 2 and s_array[2]: 6\n",
      "i: 3 and s_array[3]: 8\n",
      "\n",
      "total:  20\n",
      "average:  5.0\n",
      "after:  [ 2  4  6  8  5 12 14 16]\n"
     ]
    }
   ],
   "source": [
    "import numpy as np\n",
    "\n",
    "index = 4\n",
    "tot = 0\n",
    "\n",
    "g_array = np.array([2, 4, 6, 8, 10, 12, 14, 16])\n",
    "print('before: ', g_array)\n",
    "print()\n",
    "\n",
    "s_array = g_array\n",
    "\n",
    "for i in range(index):\n",
    "    print('i: {} and s_array[{}]: {}'.format(i, i, s_array[i]))\n",
    "    tot += s_array[i]\n",
    "    \n",
    "avg = float(tot)/index\n",
    "\n",
    "if g_array[index] > avg:\n",
    "    g_array[index] = avg\n",
    "\n",
    "print()\n",
    "print('total: ', tot)\n",
    "print('average: ', avg)\n",
    "print('after: ', g_array)"
   ]
  },
  {
   "cell_type": "code",
   "execution_count": null,
   "metadata": {},
   "outputs": [],
   "source": []
  }
 ],
 "metadata": {
  "kernelspec": {
   "display_name": "Python 3",
   "language": "python",
   "name": "python3"
  },
  "language_info": {
   "codemirror_mode": {
    "name": "ipython",
    "version": 3
   },
   "file_extension": ".py",
   "mimetype": "text/x-python",
   "name": "python",
   "nbconvert_exporter": "python",
   "pygments_lexer": "ipython3",
   "version": "3.6.5"
  }
 },
 "nbformat": 4,
 "nbformat_minor": 2
}
