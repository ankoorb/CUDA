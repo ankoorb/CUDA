{
 "cells": [
  {
   "cell_type": "code",
   "execution_count": 1,
   "metadata": {},
   "outputs": [],
   "source": [
    "import numpy as np\n",
    "\n",
    "# Input matrices\n",
    "\n",
    "np.random.seed(seed=15)\n",
    "\n",
    "A = np.random.normal(loc=2.0, scale=5.0, size=(2, 3))\n",
    "B = np.random.normal(loc=1.0, scale=3.0, size=(3, 4))\n",
    "C = np.zeros(shape=(2, 4))\n",
    "\n",
    "# Sequential algorithm for matrix multiplication\n",
    "\n",
    "I = A.shape[0]\n",
    "J = B.shape[1]\n",
    "K = A.shape[1]\n",
    "\n",
    "for i in range(I):\n",
    "    for j in range(J):\n",
    "        total = 0\n",
    "        for k in range(K):\n",
    "            # print('i: {}, j: {} and k: {}'.format(i, j, k))\n",
    "            total += A[i][k] * B[k][j]\n",
    "        C[i][j] = total\n",
    "        \n",
    "assert (C == A.dot(B)).all()"
   ]
  },
  {
   "cell_type": "markdown",
   "metadata": {},
   "source": [
    "$$ A = \\left[ \\begin{array}{ccc}\n",
    "0 & 1 & 2 & 3\\\\\n",
    "4 & 5 & 6 & 7\\\\\n",
    "8 & 9 & 10 & 11 \\end{array} \\right]$$\n",
    "\n",
    "$$ B = \\left[ \\begin{array}{ccc}\n",
    "0 & 1\\\\\n",
    "2 & 3\\\\\n",
    "4 & 5\\\\\n",
    "6 & 7\\end{array} \\right]$$"
   ]
  },
  {
   "cell_type": "code",
   "execution_count": 2,
   "metadata": {},
   "outputs": [],
   "source": [
    "Al = [0, 1, 2, 3, 4, 5, 6, 7, 8, 9, 10, 11]  # 3 x 4 matrix\n",
    "Bl = [0, 1, 2, 3, 4, 5, 6, 7]  # 4 x 3\n",
    "Cl = [0, 0, 0, 0, 0, 0]  # 3 x 2 matrix"
   ]
  },
  {
   "cell_type": "code",
   "execution_count": 3,
   "metadata": {},
   "outputs": [
    {
     "data": {
      "text/plain": [
       "array([[ 28,  34],\n",
       "       [ 76,  98],\n",
       "       [124, 162]])"
      ]
     },
     "execution_count": 3,
     "metadata": {},
     "output_type": "execute_result"
    }
   ],
   "source": [
    "A = np.array([[0, 1, 2, 3], [4, 5, 6, 7], [8, 9, 10, 11]])\n",
    "B = np.array([[0, 1], [2, 3], [4, 5], [6, 7]])\n",
    "\n",
    "AdotB = A.dot(B)\n",
    "AdotB"
   ]
  },
  {
   "cell_type": "code",
   "execution_count": 4,
   "metadata": {},
   "outputs": [
    {
     "name": "stdout",
     "output_type": "stream",
     "text": [
      "A[2][0]: 8 and B[0][1]: 1\n",
      "A[2][1]: 9 and B[1][1]: 3\n",
      "A[2][2]: 10 and B[2][1]: 5\n",
      "A[2][3]: 11 and B[3][1]: 7\n"
     ]
    }
   ],
   "source": [
    "i = 2\n",
    "j = 1\n",
    "w = A.shape[1]\n",
    "\n",
    "for k in range(w):\n",
    "    print('A[{0}][{1}]: {3} and B[{1}][{2}]: {4}'.format(i, k, j, A[i][k], B[k][j]))"
   ]
  },
  {
   "cell_type": "code",
   "execution_count": 5,
   "metadata": {},
   "outputs": [
    {
     "name": "stdout",
     "output_type": "stream",
     "text": [
      "524288.0\n"
     ]
    }
   ],
   "source": [
    "# matrixmul.cu check\n",
    "A = np.ones(shape=(64, 64))\n",
    "B = 2 * np.ones(shape=(64, 64))\n",
    "C = A.dot(B)\n",
    "print(np.sum(C))"
   ]
  },
  {
   "cell_type": "code",
   "execution_count": null,
   "metadata": {},
   "outputs": [],
   "source": []
  }
 ],
 "metadata": {
  "kernelspec": {
   "display_name": "Python 3",
   "language": "python",
   "name": "python3"
  },
  "language_info": {
   "codemirror_mode": {
    "name": "ipython",
    "version": 3
   },
   "file_extension": ".py",
   "mimetype": "text/x-python",
   "name": "python",
   "nbconvert_exporter": "python",
   "pygments_lexer": "ipython3",
   "version": "3.6.5"
  }
 },
 "nbformat": 4,
 "nbformat_minor": 2
}
